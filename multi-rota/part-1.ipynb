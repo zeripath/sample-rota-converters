{
 "cells": [
  {
   "cell_type": "markdown",
   "metadata": {},
   "source": [
    "# Multiple shift - multiple person rotas\n",
    "\n",
    "So we can convert a simple rota like [simple_rota.csv](../simple-rota/simple_rota.csv), but most of our rotas aren't anywhere as simple. Let's do some baby steps, let's consider:\n",
    "\n",
    "```csv\n",
    "\"Date\", \"SHO\", \"SpR\", \"Consultant\"\n",
    "\"29/01/2018\", \"James\", \"Martin\", \"Positano\"\n",
    "\"30/01/2018\", \"James\", \"Martin\", \"Positano\"\n",
    "\"31/01/2018\", \"James\", \"Martin\", \"Positano\"\n",
    "\"01/02/2018\", \"James\", \"Martin\", \"Positano\"\n",
    "\"02/02/2018\", \"Becky\", \"Peter\", \"Positano\"\n",
    "\"03/02/2018\", \"Becky\", \"Peter\", \"Positano\"\n",
    "\"04/02/2018\", \"Becky\", \"Peter\", \"Positano\"\n",
    "\"05/02/2018\", \"Angela\", \"Jane\", \"Smith\"\n",
    "```\n",
    "etc.\n",
    "\n",
    "Now we want to create rotas for the SHOs, SpRs and the consultants. We'll need their hours.\n"
   ]
  },
  {
   "cell_type": "code",
   "execution_count": 6,
   "metadata": {},
   "outputs": [],
   "source": [
    "from datetime import time, timedelta\n",
    "import pytz\n",
    "\n",
    "TZ = pytz.timezone('Europe/London')\n",
    "\n",
    "HOURS = {\n",
    "    'SHO': {\n",
    "        'start': time(8, tzinfo=TZ),\n",
    "        'duration': timedelta(hours=12)\n",
    "    },\n",
    "    'SpR': {\n",
    "        'start': time(8, tzinfo=TZ),\n",
    "        'duration': timedelta(hours=12)\n",
    "    },\n",
    "    'Consultant': {\n",
    "        'start': time(8, tzinfo=TZ),\n",
    "        'duration': timedelta(days=1)\n",
    "    }\n",
    "}"
   ]
  },
  {
   "cell_type": "markdown",
   "metadata": {},
   "source": [
    "If we look at [simple_rota3.py](../simple-rota/simple_rota3.py) we're going to need to look again at `handle_rows`\n"
   ]
  },
  {
   "cell_type": "code",
   "execution_count": 4,
   "metadata": {},
   "outputs": [],
   "source": [
    "# simple_rota3.py\n",
    "def handle_rows(rows, name_to_list_of_rows_dict):\n",
    "    \"\"\"Store the rota information by name\"\"\"\n",
    "    for row in rows:\n",
    "        name = row['On-Call']\n",
    "        name_to_list_of_rows_dict[ name ].append(row)\n",
    "        name_to_list_of_rows_dict[ 'All' ].append(row)"
   ]
  },
  {
   "cell_type": "markdown",
   "metadata": {},
   "source": [
    "Now, there are mulitple ways of dealing with this, depending on how the rota co-ordinator works. If it's the case that the same name in the a different column is a different person then we'll need to store the job with the name - we should probably do that in any case - if an SpR acts down or SHO acts up it will probably be marked in some other way. "
   ]
  },
  {
   "cell_type": "code",
   "execution_count": 5,
   "metadata": {},
   "outputs": [],
   "source": [
    "# multi_rota.py\n",
    "def handle_rows(rows, name_to_list_of_rows_dict):\n",
    "    \"\"\"Store the rota information by name and job\"\"\"\n",
    "    for row in rows:\n",
    "        name_to_list_of_rows_dict[ ('All', 'All') ].append(row)\n",
    "        for key in row:\n",
    "            if key != 'Date':\n",
    "                name = row[key]\n",
    "                name_to_list_of_rows_dict[ (name, key) ].append(row)"
   ]
  },
  {
   "cell_type": "markdown",
   "metadata": {},
   "source": [
    "We'll also have to adjust `create_event_for` and  `create_calendar_for` and pass in the name and job, change the summary and description to include more information, and adjust the hours based on the job."
   ]
  },
  {
   "cell_type": "code",
   "execution_count": 6,
   "metadata": {},
   "outputs": [],
   "source": [
    "def create_calendar_for(name, job, rows):\n",
    "    \"\"\"Create a calendar for name in job using the provided rows\"\"\"\n",
    "    # Create a basic iCalendar object\n",
    "    cal = Calendar()\n",
    "\n",
    "    # These two lines are required but you can change the prodid slightly\n",
    "    cal.add('prodid', '-//hacksw/handcal/NONSGML v1.0//EN')\n",
    "    cal.add('version', '2.0')\n",
    "\n",
    "    # This means that your calendar gets a nice default name\n",
    "    cal.add('x-wr-calname', 'Simple rota for %s (%s)' % (name, job))\n",
    "    \n",
    "    # Now open the rota\n",
    "    if job == 'All':\n",
    "        for row in rows:\n",
    "            for key in row:\n",
    "                if key != 'Date':\n",
    "                    event = create_event_for(row[key], key, row)\n",
    "                    cal.add_component(event)\n",
    "    else:    \n",
    "        for row in rows:\n",
    "            event = create_event_for(name, job, row)\n",
    "            cal.add_component(event)\n",
    "        \n",
    "    return cal\n",
    "\n",
    "def create_event_for(name, job, row):\n",
    "    \"\"\"Create an icalendar event for this row for name and job\"\"\"\n",
    "    event = Event()\n",
    "    \n",
    "    # Description should say who else is in department\n",
    "    description = '{0}: {1} with '.format(job, name)\n",
    "    others_d = ', '.join([ '{0}: {1}'.format(key, row[key]) \\\n",
    "                          for key in row \\\n",
    "                         if key not in ['Date', job]])\n",
    "    event.add('description', description + others_d)\n",
    "    \n",
    "    # Change the summary to say the same.\n",
    "    event.add('summary', description + others_id)\n",
    "    \n",
    "    # Look up the start time in the HOURS dictionary\n",
    "    event.add('dtstart', \n",
    "              datetime.combine(\n",
    "                  convert_to_date(row['Date']),\n",
    "                  HOURS[job]['start']))\n",
    "    \n",
    "    # Similarly look up the duration in the HOURS dictionary\n",
    "    event.add('duration', HOURS[job]['duration'])\n",
    "    \n",
    "    event.add('dtstamp', datetime.now())\n",
    "    event.add('location', 'At work') # Set this to something useful\n",
    "    event.add('uid', uuid.uuid4())\n",
    "    return event"
   ]
  },
  {
   "cell_type": "markdown",
   "metadata": {},
   "source": [
    "Which of course means we'll have to adjust `check_last_names` and `create_calendars` too"
   ]
  },
  {
   "cell_type": "code",
   "execution_count": 7,
   "metadata": {},
   "outputs": [],
   "source": [
    "## Check last names functions\n",
    "def check_last_names(name_to_list_of_rows_dict, directory):\n",
    "    \"\"\"Check from the previous run of this parser if there are new names, returns a dictionary of names to number of rows\"\"\"\n",
    "    from os.path import exists, join\n",
    "    from csv import DictReader, DictWriter\n",
    "    \n",
    "    last_names = {}\n",
    "    # Read the last names \n",
    "    if exists(join(directory, 'last_names.csv')):\n",
    "        with open(join(directory, 'last_names.csv')) as f:\n",
    "            r = DictReader(f)\n",
    "            for row in r:\n",
    "                last_names[(row['name'], row['job'])] = int(row['number'])\n",
    "    \n",
    "    name_to_number_of_rows = {}\n",
    "    with open(join(directory, 'last_names.csv'), 'w') as f:\n",
    "        w = DictWriter(f, ['name', 'job', 'number'])\n",
    "        w.writeheader()\n",
    "        for name, job in name_to_list_of_rows_dict:\n",
    "            number = len(name_to_list_of_rows_dict[(name, job)])\n",
    "            if not (name, job) in last_names:\n",
    "                # We have a new name\n",
    "                print('New name in rota: %s (%s) with %d rows' % (name, job, number))\n",
    "            w.writerow( { 'name': name, 'job': job, 'number': number } )\n",
    "            name_to_number_of_rows[(name, job)] = number\n",
    "    \n",
    "    return name_to_number_of_rows\n",
    "\n",
    "## Writing functions\n",
    "def create_calendars(name_to_list_of_rows_dict, directory):\n",
    "    from os.path import join\n",
    "    for name, job in name_to_list_of_rows_dict:\n",
    "        rows = name_to_list_of_rows_dict[name]\n",
    "        cal = create_calendar_for(name, job, rows)\n",
    "        with open(join(directory, 'rota_%s_%s.ics' % (job, name)), 'wb') as f:\n",
    "            f.write(cal.to_ical())"
   ]
  },
  {
   "cell_type": "markdown",
   "metadata": {},
   "source": [
    "Now if you make those changes, you'll see that the consultant's shift covers two days, which if you think about it - it does. However, the UI is somewhat unhelpful and it may be better to change the consultant's hours from starting at 8am to midnight."
   ]
  },
  {
   "cell_type": "code",
   "execution_count": 1,
   "metadata": {},
   "outputs": [],
   "source": [
    "from datetime import time, timedelta\n",
    "import pytz\n",
    "\n",
    "TZ = pytz.timezone('Europe/London')\n",
    "\n",
    "HOURS = {\n",
    "    'SHO': {\n",
    "        'start': time(8, tzinfo=TZ),\n",
    "        'duration': timedelta(hours=12)\n",
    "    },\n",
    "    'SpR': {\n",
    "        'start': time(8, tzinfo=TZ),\n",
    "        'duration': timedelta(hours=12)\n",
    "    },\n",
    "    'Consultant': {\n",
    "        'start': time(0, tzinfo=TZ),\n",
    "        'duration': timedelta(days=1)\n",
    "    }\n",
    "}"
   ]
  },
  {
   "cell_type": "markdown",
   "metadata": {},
   "source": [
    "Which does solve the issue of consultant's shifts covering two days - but is marked (at least on Google Calendar) with a preceding start time. Can we get rid of this?\n",
    "\n",
    "First we need to change the `HOURS` dictionary again to omit a start time:"
   ]
  },
  {
   "cell_type": "code",
   "execution_count": 7,
   "metadata": {},
   "outputs": [],
   "source": [
    " HOURS = {\n",
    "    'SHO': {\n",
    "        'start': time(8, tzinfo=TZ),\n",
    "        'duration': timedelta(hours=12)\n",
    "    },\n",
    "    'SpR': {\n",
    "        'start': time(8, tzinfo=TZ),\n",
    "        'duration': timedelta(hours=12)\n",
    "    },\n",
    "    'Consultant': {        \n",
    "        'duration': timedelta(days=1)\n",
    "    }\n",
    "}"
   ]
  },
  {
   "cell_type": "markdown",
   "metadata": {},
   "source": [
    "And then adjust the `create_event_for` function:"
   ]
  },
  {
   "cell_type": "code",
   "execution_count": 3,
   "metadata": {},
   "outputs": [],
   "source": [
    "def create_event_for(name, job, row):\n",
    "    \"\"\"Create an icalendar event for this row for name and job\"\"\"\n",
    "    event = Event()\n",
    "    \n",
    "    # Description should say who else is in department.\n",
    "    description = '{1}: {0} with '.format(name, job)\n",
    "    others_d = ', '.join([ '{1}: {0}'.format(key, row[key]) \\\n",
    "                          for key in row \\\n",
    "                         if key not in ['Date', job]])\n",
    "    event.add('description', description + others_d)\n",
    "    \n",
    "    # Make the summary the same as the description\n",
    "    event.add('summary', description + others_d)\n",
    "    \n",
    "    if 'start' in HOURS[job]:\n",
    "        # If we have a start time in the HOURS dictionary for this job - combine it with date\n",
    "        event.add('dtstart', \n",
    "                  datetime.combine(\n",
    "                      convert_to_date(row['Date']),\n",
    "                      HOURS[job]['start']))\n",
    "    else:\n",
    "        # Otherwise just use the date\n",
    "        event.add('dtstart', convert_to_date(row['Date']).date())\n",
    "\n",
    "    # Look up the duration in the HOURS dictionary\n",
    "    event.add('duration', HOURS[job]['duration'])\n",
    "\n",
    "    event.add('dtstamp', datetime.now())\n",
    "    event.add('location', 'At work') # Set this to something useful\n",
    "    event.add('uid', uuid.uuid4())\n",
    "    return event"
   ]
  },
  {
   "cell_type": "markdown",
   "metadata": {},
   "source": [
    "This changes the `VEVENT` from:\n",
    "\n",
    "```ics\n",
    "BEGIN:VEVENT\n",
    "SUMMARY:Consultant: Jones\n",
    "DTSTART;TZID=Europe/London;VALUE=DATE-TIME:20180208T000000\n",
    "DURATION:P1D\n",
    "DTSTAMP;VALUE=DATE-TIME:20171116T115729Z\n",
    "UID:845cf2b4-64a3-4dc0-819d-bf8cf473b4e1\n",
    "DESCRIPTION:Consultant: Jones with Angela: SHO\\, Jane: SpR\n",
    "LOCATION:At work\n",
    "END:VEVENT\n",
    "```\n",
    "\n",
    "to\n",
    "\n",
    "```ics\n",
    "BEGIN:VEVENT\n",
    "SUMMARY:Consultant: Jones\n",
    "DTSTART;VALUE=DATE:20180208\n",
    "DURATION:P1D\n",
    "DTSTAMP;VALUE=DATE-TIME:20171116T115729Z\n",
    "UID:845cf2b4-64a3-4dc0-819d-bf8cf473b4e1\n",
    "DESCRIPTION:Consultant: Jones with Angela: SHO\\, Jane: SpR\n",
    "LOCATION:At work\n",
    "END:VEVENT\n",
    "```\n",
    "\n",
    "(hint look at the `DTSTART` value.)\n",
    "\n",
    "meaning that the event is treated like an all-day event. \n",
    "\n",
    "* _Can you think of anything that should be treated as an all day event?_\n",
    "\n",
    "Right, I think we've got a good enough reader for that rota, and I've made the above changes and put them in [multi_rota.py](multi_rota.py)"
   ]
  }
 ],
 "metadata": {
  "kernelspec": {
   "display_name": "Python 3",
   "language": "python",
   "name": "python3"
  },
  "language_info": {
   "codemirror_mode": {
    "name": "ipython",
    "version": 3
   },
   "file_extension": ".py",
   "mimetype": "text/x-python",
   "name": "python",
   "nbconvert_exporter": "python",
   "pygments_lexer": "ipython3",
   "version": "3.6.3"
  }
 },
 "nbformat": 4,
 "nbformat_minor": 2
}
