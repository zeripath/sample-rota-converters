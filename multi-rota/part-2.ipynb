{
 "cells": [
  {
   "cell_type": "markdown",
   "metadata": {},
   "source": [
    "# Adding night shifts to the multi-shift/multi-person rota\n",
    "\n",
    "Let's consider adding night shifts in to this rota. [multi_rota2.xls](multi_rota2.xls)\n",
    "\n",
    "```csv\n",
    "\"Date\", \"SHO\", \"SpR\", \"Night SHO\", \"Night SpR\", \"Consultant\"\n",
    "\"29/01/2018\", \"James\", \"Martin\", \"Tim\", \"Anusha\", \"Positano\"\n",
    "\"30/01/2018\", \"James\", \"Martin\", \"Tim\", \"Anusha\", \"Positano\"\n",
    "\"31/01/2018\", \"James\", \"Martin\", \"Tim\", \"Anusha\", \"Positano\"\n",
    "\"01/02/2018\", \"James\", \"Martin\", \"Tim\", \"Anusha\", \"Positano\"\n",
    "\"02/02/2018\", \"Becky\", \"Peter\", \"Emma\", \"Bob\", \"Positano\"\n",
    "\"03/02/2018\", \"Becky\", \"Peter\", \"Emma\", \"Bob\", \"Positano\"\n",
    "\"04/02/2018\", \"Becky\", \"Peter\", \"Emma\", \"Bob\", \"Positano\"\n",
    "\"05/02/2018\", \"Angela\", \"Jane\", \"Jenny\", \"Martin\", \"Smith\"\n",
    "```\n",
    "etc.\n",
    "\n",
    "We'll need to adjust the `HOURS` dictionary:"
   ]
  },
  {
   "cell_type": "code",
   "execution_count": 2,
   "metadata": {},
   "outputs": [],
   "source": [
    "from datetime import time, timedelta\n",
    "import pytz\n",
    "\n",
    "TZ = pytz.timezone('Europe/London')\n",
    "\n",
    "HOURS = {\n",
    "    'SHO': {\n",
    "        'start': time(8, tzinfo=TZ),\n",
    "        'duration': timedelta(hours=12.5)\n",
    "    },\n",
    "    'SpR': {\n",
    "        'start': time(8, tzinfo=TZ),\n",
    "        'duration': timedelta(hours=12.5)\n",
    "    },\n",
    "    'Consultant': {\n",
    "        'start': time(8, tzinfo=TZ),\n",
    "        'duration': timedelta(days=1)\n",
    "    },\n",
    "    'Night SHO': {\n",
    "        'start': time(20, tzinfo=TZ),\n",
    "        'duration': timedelta(hours=12.5)        \n",
    "    },\n",
    "    'Night SpR': {\n",
    "        'start': time(20, tzinfo=TZ),\n",
    "        'duration': timedelta(hours=12.5)                \n",
    "    }\n",
    "}"
   ]
  },
  {
   "cell_type": "markdown",
   "metadata": {},
   "source": [
    "There's a problem with this though: Daylight Savings Time.\n",
    "\n",
    "## Daylight Savings Time: Duration vs End Time\n",
    "\n",
    "Shifts tend to finish at the same time every day - therefore we should switch from using `duration` to `end`. (But we'll have to be careful to check if the end time is earlier than the start time, and shift the day if necessary.)"
   ]
  },
  {
   "cell_type": "code",
   "execution_count": 3,
   "metadata": {},
   "outputs": [],
   "source": [
    "HOURS = {\n",
    "    'SHO': {\n",
    "        'start': time(8, tzinfo=TZ),\n",
    "        'end': time(20, 30, tzinfo=TZ)\n",
    "    },\n",
    "    'SpR': {\n",
    "        'start': time(8, tzinfo=TZ),\n",
    "        'end': time(20, 30, tzinfo=TZ)\n",
    "    },\n",
    "    'Consultant': {        \n",
    "        'duration': timedelta(days=1)\n",
    "    },\n",
    "    'Night SHO': {\n",
    "        'start': time(20, tzinfo=TZ),\n",
    "        'end': time(8, 30, tzinfo=TZ)\n",
    "    },\n",
    "    'Night SpR': {\n",
    "        'start': time(20, tzinfo=TZ),\n",
    "        'end': time(8, 30, tzinfo=TZ)\n",
    "    }\n",
    "\n",
    "}"
   ]
  },
  {
   "cell_type": "code",
   "execution_count": 6,
   "metadata": {},
   "outputs": [],
   "source": [
    "def create_event_for(name, job, row):\n",
    "    \"\"\"Create an icalendar event for this row for name and job\"\"\"\n",
    "    event = Event()\n",
    "    \n",
    "    # Description should say who else is in department.\n",
    "    description = '{1}: {0} with '.format(name, job)\n",
    "    others_d = ', '.join([ '{1}: {0}'.format(key, row[key]) \\\n",
    "                          for key in row \\\n",
    "                         if key not in ['Date', job]])\n",
    "    event.add('description', description + others_d)\n",
    "    \n",
    "    # Make the summary the same as the description\n",
    "    event.add('summary', description + others_d)\n",
    "    \n",
    "    if 'start' in HOURS[job]:\n",
    "        # If we have a start time in the HOURS dictionary for this job - combine it with date\n",
    "        event.add('dtstart', \n",
    "                  datetime.combine(\n",
    "                      convert_to_date(row['Date']),\n",
    "                      HOURS[job]['start']))\n",
    "    else:\n",
    "        # Otherwise just use the date\n",
    "        event.add('dtstart', convert_to_date(row['Date']).date())\n",
    "\n",
    "    if 'duration' in HOURS[job]:\n",
    "        event.add('duration', HOURS[job]['duration'])\n",
    "    else:\n",
    "        if (HOURS[job]['end'] > HOURS[job]['start']):\n",
    "            event.add('dtend',\n",
    "                      datetime.combine(\n",
    "                          convert_to_date(row['Date']),\n",
    "                          HOURS[job]['end']))            \n",
    "        else:\n",
    "            # OK so the end is before the start?\n",
    "            # simply add a day on to the date and then combine\n",
    "            event.add('dtend',\n",
    "                      datetime.combine(\n",
    "                          convert_to_date(row['Date']) + timedelta(days=1),\n",
    "                          HOURS[job]['end']))\n",
    "\n",
    "    event.add('dtstamp', datetime.now())\n",
    "    event.add('location', 'At work') # Set this to something useful\n",
    "    event.add('uid', uuid.uuid4())\n",
    "    return event"
   ]
  },
  {
   "cell_type": "markdown",
   "metadata": {},
   "source": [
    "## Job versus Role\n",
    "If you make the above changes you'll notice a problem, you'll get separate rotas for night SHO and day SHO. The problem is that we've made the role synonymous with the job i.e. `Night SHO` is a role in the job `SHO`.\n",
    "\n",
    "So we need to tell the rota to merge the `Night SHO` and the `SHO` roles together into an `SHO` job. Let's start by adjusting the `HOURS` dictionary to add a job descriptor to these, and we'll let the default job of the others be their name."
   ]
  },
  {
   "cell_type": "code",
   "execution_count": 11,
   "metadata": {},
   "outputs": [],
   "source": [
    "HOURS = {\n",
    "    'SHO': {\n",
    "        'start': time(8, tzinfo=TZ),\n",
    "        'end': time(20, 30, tzinfo=TZ)\n",
    "    },\n",
    "    'SpR': {\n",
    "        'start': time(8, tzinfo=TZ),\n",
    "        'end': time(20, 30, tzinfo=TZ)\n",
    "    },\n",
    "    'Consultant': {        \n",
    "        'duration': timedelta(days=1)\n",
    "    },\n",
    "    'Night SHO': {\n",
    "        'job': 'SHO',\n",
    "        'start': time(20, tzinfo=TZ),\n",
    "        'end': time(8, 30, tzinfo=TZ)\n",
    "    },\n",
    "    'Night SpR': {\n",
    "        'job': 'SpR',\n",
    "        'start': time(20, tzinfo=TZ),\n",
    "        'end': time(8, 30, tzinfo=TZ)\n",
    "    }\n",
    "\n",
    "}"
   ]
  },
  {
   "cell_type": "markdown",
   "metadata": {},
   "source": [
    "Unfortunately, in order to account for this we're going to have to change a lot of things.\n",
    "\n",
    "Let's think about our primary data-structure `names_to_list_of_rows_dict`. \n",
    "\n",
    "We've already adjusted this to actually be a dictionary of `(name, job)` pairs to a list of `rows` (or less wordily `(name, job) → list(row)`). The simplest thing change that this data-structure can undergo is a change to a dictionary: `(name, job) → list(role, list(row))` (i.e. a dictionary of `(name, job)` pairs to a list of `(role, rows)` pairs. Note `rows` here is a list.)\n",
    "\n",
    "So let's look at `handle_rows(...)`"
   ]
  },
  {
   "cell_type": "code",
   "execution_count": 9,
   "metadata": {},
   "outputs": [],
   "source": [
    "# multi_rota.py and simple_rota3.py\n",
    "def handle_rows(rows):\n",
    "    \"\"\"Store the rota information by name and job\"\"\"\n",
    "    name_to_list_of_rows_dict = defaultdict(list)\n",
    "    for row in rows:\n",
    "        name_to_list_of_rows_dict[ ('All', 'All') ].append(row)\n",
    "        for key in row:\n",
    "            if key != 'Date':\n",
    "                name = row[key]\n",
    "                name_to_list_of_rows_dict[ (name, key) ].append(row)\n",
    "    return name_to_list_of_rows_dict"
   ]
  },
  {
   "cell_type": "markdown",
   "metadata": {},
   "source": [
    "As mentioned above `name_to_list_of_rows_dict` is poorly named and should be `name_job_to_list_of_rows_dict` - or using our new notation `name_role_to_list_of_rows_dict` (which is a bit of a mouthful!) and has type `(name, role) → list(rows)`.\n",
    "\n",
    "If we iterate across that dictionary, mapping the `role` to its `job` and create a new dictionary with type: `(name, job) → list(role, list(row))` which for brevity I'll call `nj_to_rrows` then we can use that as our primary data structure."
   ]
  },
  {
   "cell_type": "code",
   "execution_count": 12,
   "metadata": {},
   "outputs": [],
   "source": [
    "# multi_rota2.py\n",
    "def handle_rows(rows):\n",
    "    \"\"\"Store the rota information by name and job\"\"\"\n",
    "    # nr_to_rows: name_role_to_list_of_rows_dict\n",
    "    nr_to_rows = defaultdict(list)\n",
    "    for row in rows:\n",
    "        nr_to_rows[ ('All', 'All') ].append(row)\n",
    "        for key in row:\n",
    "            if key != 'Date':\n",
    "                name = row[key]\n",
    "                nr_to_rows[ (name, key) ].append(row)\n",
    "\n",
    "    # nj_to_rrows: name_job_to_list_role_rows_dict \n",
    "    nj_to_rrows = defaultdict(list)\n",
    "\n",
    "    for name, role in nr_to_rows:\n",
    "        job = HOURS[role]['job'] \\\n",
    "            if role in HOURS and 'job' in HOURS[role] \\\n",
    "            else role\n",
    "        rows = nr_to_rows[ (name, role) ]\n",
    "        \n",
    "        nj_to_rrows[ (name, job) ].append( (role, rows) )\n",
    "\n",
    "    return nj_to_rrows"
   ]
  },
  {
   "cell_type": "markdown",
   "metadata": {},
   "source": [
    "* _Now we could do that in one pass but, it's a bit complicated and I think it's easier to read like this._\n",
    "\n",
    "We should probably adjust `parse_file_and_create_calendars(...)` if only to just to change the name of the data-structure - but also to remind us what needs changing."
   ]
  },
  {
   "cell_type": "code",
   "execution_count": 14,
   "metadata": {},
   "outputs": [],
   "source": [
    "## Main function\n",
    "def parse_file_and_create_calendars(fname, sheet, directory):\n",
    "    from os.path import exists\n",
    "    rows_data = read(fname, handle_rows, sheet)\n",
    "    \n",
    "    if not exists(directory):\n",
    "        from os import makedirs\n",
    "        makedirs(directory)\n",
    "    check_last_names(rows_data, directory)\n",
    "    create_calendars(rows_data, directory)\n"
   ]
  },
  {
   "cell_type": "markdown",
   "metadata": {},
   "source": [
    "## Adjusting `check_last_names`\n",
    "\n",
    "Now if we recall `check_last_names(...)` it prints out a list of new names with the number of rows that are affected. We'll need to therefore adjust this too"
   ]
  },
  {
   "cell_type": "code",
   "execution_count": 15,
   "metadata": {},
   "outputs": [],
   "source": [
    "## Check last names functions\n",
    "def check_last_names(nj_to_r_rows, directory):\n",
    "    \"\"\"Check from the previous run of this parser if there are new names, returns a dictionary of names to number of rows\"\"\"\n",
    "    from os.path import exists, join\n",
    "    from csv import DictReader, DictWriter\n",
    "    \n",
    "    last_names = {}\n",
    "    # Read the last names \n",
    "    if exists(join(directory, 'last_names.csv')):\n",
    "        with open(join(directory, 'last_names.csv')) as f:\n",
    "            r = DictReader(f)\n",
    "            for row in r:\n",
    "                last_names[(row['name'], row['job'])] = int(row['number'])\n",
    "    \n",
    "    name_to_number_of_rows = {}\n",
    "    with open(join(directory, 'last_names.csv'), 'w') as f:\n",
    "        w = DictWriter(f, ['name', 'job', 'number'])\n",
    "        w.writeheader()\n",
    "        for name, job in nj_to_r_rows:\n",
    "            # number is the sum of rows for each role for this name, job pair \n",
    "            number = sum( (len(rows) \\\n",
    "                           for _, rows in \\\n",
    "                               nj_to_r_rows[ (name, job) ]))\n",
    "            if not (name, job) in last_names:\n",
    "                # We have a new name\n",
    "                print('New name in rota: %s (%s) with %d rows' % (name, job, number))\n",
    "            w.writerow( { 'name': name, 'job': job, 'number': number } )\n",
    "            name_to_number_of_rows[(name, job)] = number\n",
    "    \n",
    "    return name_to_number_of_rows"
   ]
  },
  {
   "cell_type": "markdown",
   "metadata": {},
   "source": [
    "## Adjusting `create_calendars`\n",
    "\n",
    "Next we need to look at `create_calendars`"
   ]
  },
  {
   "cell_type": "code",
   "execution_count": 16,
   "metadata": {},
   "outputs": [],
   "source": [
    "## multi_rota.py and simple_rota3.py\n",
    "def create_calendars(name_to_list_of_rows_dict, directory):\n",
    "    from os.path import join\n",
    "    for name, job in name_to_list_of_rows_dict:\n",
    "        rows = name_to_list_of_rows_dict[(name, job)]\n",
    "        cal = create_calendar_for(name, job, rows)\n",
    "        with open(join(directory, 'rota_%s_%s.ics' % (job, name)), 'wb') as f:\n",
    "            f.write(cal.to_ical())"
   ]
  },
  {
   "cell_type": "markdown",
   "metadata": {},
   "source": [
    "Surprisingly, if we simply change `create_calendar_for` to do the right thing this code doesn't need changing. I'll adjust the names for clarity however."
   ]
  },
  {
   "cell_type": "code",
   "execution_count": 17,
   "metadata": {},
   "outputs": [],
   "source": [
    "## Writing functions\n",
    "def create_calendars(nj_to_r_rows, directory):\n",
    "    from os.path import join\n",
    "    for name, job in nj_to_r_rows:\n",
    "        role_rows_pairs = nj_to_r_rows[(name, job)]\n",
    "        cal = create_calendar_for(name, job, role_rows_pairs)\n",
    "        with open(join(directory, 'rota_%s_%s.ics' % (job, name)), 'wb') as f:\n",
    "            f.write(cal.to_ical())"
   ]
  },
  {
   "cell_type": "markdown",
   "metadata": {},
   "source": [
    "## Down the rabbit hole: `create_calendar_for`\n",
    "\n",
    "So we look at `create_calendar_for`:"
   ]
  },
  {
   "cell_type": "code",
   "execution_count": 18,
   "metadata": {},
   "outputs": [],
   "source": [
    "## multi_rota.py and simple_rota3.py\n",
    "def create_calendar_for(name, job, rows):\n",
    "    \"\"\"Create a calendar for name in job using the provided rows\"\"\"\n",
    "    # Create a basic iCalendar object\n",
    "    cal = Calendar()\n",
    "\n",
    "    # These two lines are required but you can change the prodid slightly\n",
    "    cal.add('prodid', '-//hacksw/handcal/NONSGML v1.0//EN')\n",
    "    cal.add('version', '2.0')\n",
    "\n",
    "    # This means that your calendar gets a nice default name\n",
    "    cal.add('x-wr-calname', 'Simple rota for %s (%s)' % (name, job))\n",
    "    \n",
    "    # Now open the rota\n",
    "    if job == 'All':\n",
    "        for row in rows:\n",
    "            for key in row:\n",
    "                if key != 'Date':\n",
    "                    event = create_event_for(row[key], key, row)\n",
    "                    cal.add_component(event)\n",
    "    else:    \n",
    "        for row in rows:\n",
    "            event = create_event_for(name, job, row)\n",
    "            cal.add_component(event)\n",
    "        \n",
    "    return cal"
   ]
  },
  {
   "cell_type": "markdown",
   "metadata": {},
   "source": [
    "Now instead of passing in a list of `rows` we're passing in a list of `(role, rows)` pairs, so we'll need to iterate across each pair and then the rows, but assuming we do that, how do we need to change `create_event_for`?"
   ]
  },
  {
   "cell_type": "code",
   "execution_count": 19,
   "metadata": {},
   "outputs": [],
   "source": [
    "# multi_rota.py\n",
    "def create_event_for(name, job, row):\n",
    "    \"\"\"Create an icalendar event for this row for name and job\"\"\"\n",
    "    event = Event()\n",
    "    \n",
    "    # Description should say who else is in department.\n",
    "    description = '{0}: {1} with '.format(job, name)\n",
    "    others_d = ', '.join([ '{0}: {1}'.format(key, row[key]) \\\n",
    "                          for key in row \\\n",
    "                         if key not in ['Date', job]])\n",
    "    event.add('description', description + others_d)\n",
    "    \n",
    "    # Make the summary the same as the description\n",
    "    event.add('summary', description + others_d)\n",
    "    \n",
    "    if 'start' in HOURS[job]:\n",
    "        # If we have a start time in the HOURS dictionary for this job - combine it with date\n",
    "        event.add('dtstart', \n",
    "                  datetime.combine(\n",
    "                      convert_to_date(row['Date']),\n",
    "                      HOURS[job]['start']))\n",
    "    else:\n",
    "        # Otherwise just use the date\n",
    "        event.add('dtstart', convert_to_date(row['Date']).date())\n",
    "\n",
    "    if 'duration' in HOURS[job]:\n",
    "        event.add('duration', HOURS[job]['duration'])\n",
    "    else:\n",
    "        if (HOURS[job]['end'] > HOURS[job]['start']):\n",
    "            event.add('dtend',\n",
    "                      datetime.combine(\n",
    "                          convert_to_date(row['Date']),\n",
    "                          HOURS[job]['end']))            \n",
    "        else:\n",
    "            # OK so the end is before the start?\n",
    "            # simply add a day on to the date and then combine\n",
    "            event.add('dtend',\n",
    "                      datetime.combine(\n",
    "                          convert_to_date(row['Date']) + timedelta(days=1),\n",
    "                          HOURS[job]['end']))\n",
    "\n",
    "    event.add('dtstamp', datetime.now())\n",
    "    event.add('location', 'At work') # Set this to something useful\n",
    "    event.add('uid', uuid.uuid4())\n",
    "    return event"
   ]
  },
  {
   "cell_type": "markdown",
   "metadata": {},
   "source": [
    "Looking at this carefully, If we simply replace `job` with `role` here we don't need to change anything! (I'll leave that as a simple task for you!)\n",
    "\n",
    "Thus we can change our `create_calendar_for` to pass in the `role` instead of the `job` we'll get a working rota!"
   ]
  },
  {
   "cell_type": "code",
   "execution_count": 21,
   "metadata": {},
   "outputs": [],
   "source": [
    "def create_calendar_for(name, job, role_rows_list):\n",
    "    \"\"\"Create a calendar for name in job using the provided rows\"\"\"\n",
    "    # Create a basic iCalendar object\n",
    "    cal = Calendar()\n",
    "\n",
    "    # These two lines are required but you can change the prodid slightly\n",
    "    cal.add('prodid', '-//hacksw/handcal/NONSGML v1.0//EN')\n",
    "    cal.add('version', '2.0')\n",
    "\n",
    "    # This means that your calendar gets a nice default name\n",
    "    cal.add('x-wr-calname', 'Simple rota for %s (%s)' % (name, job))\n",
    "    \n",
    "    # Now open the rota\n",
    "    if job == 'All':\n",
    "        for _, rows in role_rows_list:\n",
    "            for row in rows:\n",
    "                for key in row:\n",
    "                    if key != 'Date':\n",
    "                        event = create_event_for(row[key], key, row)\n",
    "                        cal.add_component(event)\n",
    "    else:\n",
    "        for role, rows in role_rows_list:\n",
    "            for row in rows:\n",
    "                event = create_event_for(name, role, row)\n",
    "                cal.add_component(event)\n",
    "        \n",
    "    return cal"
   ]
  },
  {
   "cell_type": "markdown",
   "metadata": {},
   "source": [
    "Excellent we now have a working rota reader for night shifts! [multi_rota2.py](multi_rota2.py)\n",
    "\n",
    "* _Note the amount of work we had to do fix the broken assumption that jobs were equivalent to roles vs. the broken assumption that shifts had a simple start time and duration._\n",
    "* _In the second case all we had to do was a one for one switch of end time for duration, whereas the first case introduced a new layer of indirection_"
   ]
  }
 ],
 "metadata": {
  "kernelspec": {
   "display_name": "Python 3",
   "language": "python",
   "name": "python3"
  },
  "language_info": {
   "codemirror_mode": {
    "name": "ipython",
    "version": 3
   },
   "file_extension": ".py",
   "mimetype": "text/x-python",
   "name": "python",
   "nbconvert_exporter": "python",
   "pygments_lexer": "ipython3",
   "version": "3.6.3"
  }
 },
 "nbformat": 4,
 "nbformat_minor": 2
}
