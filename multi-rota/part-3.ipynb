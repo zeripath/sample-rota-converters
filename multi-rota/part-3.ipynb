{
 "cells": [
  {
   "cell_type": "markdown",
   "metadata": {},
   "source": [
    "# Name errors and other abuses\n",
    "\n",
    "Back in [Part 3 of the Simple Rota](../simple-rota/part-3) we saw that it was likely that there would be errors in the data or special cases. For example take a look at [multi_rota3.xls](multi_rota3.xls):\n",
    "\n",
    "* Spelling Mistakes like `Wiliam`\n",
    "* Additional information like `James (instead of William)`\n",
    "* Special cases like `James (AM) William (PM)`\n",
    "\n",
    "We now have method to detect these but how do we fix these or cope with them?\n",
    "\n",
    "## Spelling mistakes, Upper/Lower case and trailing spaces\n",
    "\n",
    "Let's make two assumptions:\n",
    "\n",
    "* It's fairly unlikely that two people on the same rota will get mispelled to the same thing.\n",
    "* Once a spelling mistake has occurred, the same mistake is likely to happen again.\n",
    "* The likelihood of the spelling mistake being fixed in a timely manner is low.\n",
    "\n",
    "If these are true it's worth, once a spelling mistake has been detected, to add it to our program to autocorrect in future.\n",
    "\n",
    "The simplest way to autocorrect these is to use a dictionary of incorrectly spelled names and their corrections - you could specify it by `job` if the corrections are different for different jobs, but lets keep it simple."
   ]
  },
  {
   "cell_type": "code",
   "execution_count": 1,
   "metadata": {},
   "outputs": [],
   "source": [
    "SPELLING_CORRECTIONS = { 'Wiliam': 'William'}\n",
    "\n",
    "def autocorrect(name):\n",
    "    if name in SPELLING_CORRECTIONS:\n",
    "        return SPELLING_CORRECTIONS[name]\n",
    "    return name"
   ]
  },
  {
   "cell_type": "markdown",
   "metadata": {},
   "source": [
    "But what about simple upper case/lower case mistakes, or even trailing spaces? "
   ]
  },
  {
   "cell_type": "code",
   "execution_count": 25,
   "metadata": {},
   "outputs": [
    {
     "data": {
      "text/plain": [
       "'William'"
      ]
     },
     "execution_count": 25,
     "metadata": {},
     "output_type": "execute_result"
    }
   ],
   "source": [
    "SPELLING_CORRECTIONS = { 'Wiliam'.lower().strip(): 'William'}\n",
    "\n",
    "def autocorrect(name):\n",
    "    canonical = name.lower().strip()\n",
    "    if canonical in SPELLING_CORRECTIONS:\n",
    "        return SPELLING_CORRECTIONS[canonical].title().strip()\n",
    "    return canonical.title()\n",
    "\n",
    "autocorrect(' WiliAM  ')"
   ]
  },
  {
   "cell_type": "markdown",
   "metadata": {},
   "source": [
    "Now we have to wire this autocorrecting code into `handle_rows`:\n",
    "\n",
    "```python\n",
    "def handle_rows(rows):\n",
    "    \"\"\"Store the rota information by name and job\"\"\"\n",
    "    # nr_to_rows: name_to_list_of_rows_dict\n",
    "    nr_to_rows = defaultdict(list)\n",
    "    for row in rows:\n",
    "        nr_to_rows[ ('All', 'All') ].append(row)\n",
    "        for key in row:\n",
    "            if key != 'Date':\n",
    "                name = autocorrect(row[key])\n",
    "                nr_to_rows[ (name, key) ].append(row)\n",
    "    ...\n",
    "```\n",
    "\n",
    "We just have to keep adding spelling corrections as we see them.\n",
    "\n",
    "* We could do better using an approach whereby we try to autocorrect  to already known names using phonetic/approximate matching of strings.  A number of methods are implemented in the jellyfish module <http://jellyfish.readthedocs.io/en/latest/> \n",
    "\n",
    "## Unecessary Additional Information\n",
    "\n",
    "We have a number of options for dealing with additional information. A simple solution would be to place them in the spelling corrections directory as, and when, we see them. Another option is to match the type of string and strip out the correct name.\n",
    "\n",
    "The easiest way to detect a string like `James (instead of William)` is to use `'(instead of' in test_string` and then `test_string[0:test_string.index('(instead of')`. However, if you have multiple strings to test for (e.g 'insted of') you may benefit from using a different scheme.\n",
    "\n",
    "### Regular Expressions\n",
    "\n",
    "Regular Expressions, or RegExps, are special strings describing a search pattern. You could call them wildcards on steroids. They are extremely useful tools and becoming proficient at using them is highly recommended - however, they can be a little arcane."
   ]
  },
  {
   "cell_type": "code",
   "execution_count": 29,
   "metadata": {},
   "outputs": [
    {
     "name": "stdout",
     "output_type": "stream",
     "text": [
      "James\n",
      "James\n"
     ]
    }
   ],
   "source": [
    "import re\n",
    "\n",
    "test_string = 'James (instead of William)'\n",
    "test_string2 = 'James insted of Wiliam'\n",
    "# ( ) <- marks a group\n",
    "# . <- matches any character\n",
    "# a* <- means a string of 'a' of any length\n",
    "# \\( <- means an actual open bracket\n",
    "# a? <- means an optional 'a'\n",
    "# a+ <- means 1 or more 'a's\n",
    "# a*? <- means match the least number of 'a's necessary\n",
    "re_string = '(.*?) \\(?instea?d of .*' \n",
    "\n",
    "print(re.match(re_string, test_string).groups()[0])\n",
    "\n",
    "re_compiled = re.compile(re_string)\n",
    "\n",
    "print(re_compiled.match(test_string2).groups()[0])"
   ]
  },
  {
   "cell_type": "markdown",
   "metadata": {},
   "source": [
    "Let's add a strip unnecessary information function to the autocorrect function."
   ]
  },
  {
   "cell_type": "code",
   "execution_count": 31,
   "metadata": {},
   "outputs": [],
   "source": [
    "## Spelling corrections\n",
    "import re\n",
    "SPELLING_CORRECTIONS = { 'wiliam': 'William' }\n",
    "UNNECESSARY_ADDITIONAL_INFORMATION_RES = [\n",
    "    re.compile('(.*?) \\(?instea?d of .*'),\n",
    "    re.compile('(.*?) \\(?not .*'),\n",
    "    re.compile('(.*?) \\(?replac.*'), # Catches x replacing y\n",
    "]\n",
    "\n",
    "def strip_unnecessary_information(name):\n",
    "    canonical = name.lower().strip()\n",
    "    for reg_exp in UNNECESSARY_ADDITIONAL_INFORMATION_RES:\n",
    "        if reg_exp.match(canonical):\n",
    "            canonical = reg_exp.match(canonical).groups()[0]\n",
    "    return canonical\n",
    "\n",
    "def autocorrect(name):\n",
    "    canonical = strip_unnecessary_information(name)\n",
    "    if canonical in SPELLING_CORRECTIONS:\n",
    "        return SPELLING_CORRECTIONS[canonical].title().strip()\n",
    "    return canonical.title()"
   ]
  },
  {
   "cell_type": "markdown",
   "metadata": {},
   "source": [
    "## Special cases\n",
    "\n",
    "So now we need to consider the `James (AM) William (PM)` case.\n",
    "\n",
    "This is an interesting case because it means we need to put row into two names for the same role, and we'll need to catch it again in the `create_event_for` function."
   ]
  },
  {
   "cell_type": "code",
   "execution_count": 33,
   "metadata": {},
   "outputs": [],
   "source": [
    "AM_PM_SPLIT_RE = re.compile('(.*) \\(?(am)\\)? (.*) \\(?(pm)\\)?')\n",
    "def role_split(role_string):\n",
    "    canonical = role_string.lower().strip()\n",
    "    if AM_PM_SPLIT_RE.match(canonical):\n",
    "        groups = AM_PM_SPLIT_RE.match(canonical).groups()\n",
    "        return [groups[0], groups[2]]\n",
    "    else:\n",
    "        return [role_string]\n",
    "    \n",
    "def munge_role(name, role, row):\n",
    "    canonical = row[role].lower().strip()\n",
    "    if AM_PM_SPLIT_RE.match(canonical):\n",
    "        groups = AM_PM_SPLIT_RE.match(canonical).groups()\n",
    "        names = [autocorrect(groups[0]), autocorrect(groups[2])]\n",
    "        if name in names:\n",
    "            time_mod = groups[1 + names.index(name) * 2].upper()\n",
    "            return (name, \\\n",
    "                    '{0} ({1})'.format(role, time_mod))\n",
    "        \n",
    "    return (name, role)"
   ]
  },
  {
   "cell_type": "markdown",
   "metadata": {},
   "source": [
    "```python\n",
    "## Reading functions\n",
    "def handle_rows(rows):\n",
    "    \"\"\"Store the rota information by name and job\"\"\"\n",
    "    # nr_to_rows: name_to_list_of_rows_dict\n",
    "    nr_to_rows = defaultdict(list)\n",
    "    for row in rows:\n",
    "        nr_to_rows[ ('All', 'All') ].append(row)\n",
    "        for key in row:\n",
    "            if key != 'Date':\n",
    "                names = role_split(row[key])\n",
    "                for uncorrected in names:\n",
    "                    name = autocorrect(uncorrected)\n",
    "                    nr_to_rows[ (name, key) ].append(row)\n",
    "    ...\n",
    "```\n",
    "```python\n",
    "def create_event_for(name, role, row):\n",
    "    \"\"\"Create an icalendar event for this row for name and role\"\"\"\n",
    "    event = Event()\n",
    "    \n",
    "    # Munge the role\n",
    "    (name, role) = munge_role(name, role, row)\n",
    "    ...\n",
    "```\n",
    "\n",
    "Finally we'll need to fix the `HOURS` dictionary to include appropriate times for the AM/PM switch.\n",
    "\n",
    "```python\n",
    "HOURS = {\n",
    "    ...\n",
    "    'SHO (AM)': {\n",
    "        'start': time(8, tzinfo=TZ),\n",
    "        'end': time(14, 0, tzinfo=TZ)\n",
    "    },\n",
    "    'SpR (AM)': {\n",
    "        'start': time(8, tzinfo=TZ),\n",
    "        'end': time(14, 0, tzinfo=TZ)\n",
    "    },\n",
    "    'SHO (PM)': {\n",
    "        'start': time(14, tzinfo=TZ),\n",
    "        'end': time(20, 30, tzinfo=TZ)\n",
    "    },\n",
    "    ...\n",
    "}\n",
    "```"
   ]
  },
  {
   "cell_type": "code",
   "execution_count": null,
   "metadata": {},
   "outputs": [],
   "source": []
  }
 ],
 "metadata": {
  "kernelspec": {
   "display_name": "Python 3",
   "language": "python",
   "name": "python3"
  },
  "language_info": {
   "codemirror_mode": {
    "name": "ipython",
    "version": 3
   },
   "file_extension": ".py",
   "mimetype": "text/x-python",
   "name": "python",
   "nbconvert_exporter": "python",
   "pygments_lexer": "ipython3",
   "version": "3.6.3"
  }
 },
 "nbformat": 4,
 "nbformat_minor": 2
}
