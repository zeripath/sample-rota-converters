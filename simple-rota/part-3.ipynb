{
 "cells": [
  {
   "cell_type": "markdown",
   "metadata": {},
   "source": [
    "# Simple Rota Reader 3 - Problems and Hosting\n",
    "\n",
    "Great! We have a way of creating rota calendars for individual doctors. Albeit from a simple rota. But before we move on we should look at few potential issues.\n",
    "\n",
    "## Hosting\n",
    "\n",
    "There's no point creating these icalendar files if we can't get them into our applications.\n",
    "\n",
    "We could post out the .ics files to everyone who wants them and then they import them directly into their calendar applications. A better plan would be to place the .ics files on a webserver somewhere, point our applications to that and then update the .ics files as needed.\n",
    "\n",
    "A good place to put these would be on your own webserver - but you may not have one. Another good, free place is on <http://github.io>\n",
    "\n",
    "## Excel\n",
    "\n",
    "Almost all rotas come as Excel files. Switching from reading excel files to csv files isn't a completely simple switch. There are two modules I know of that can read excel: `pandas` and `xlrd` but they both have different APIs to that of `csv`.\n",
    "\n",
    "We'll use `xlrd` as it is the most simple. The basic reading code is as follows:"
   ]
  },
  {
   "cell_type": "code",
   "execution_count": 4,
   "metadata": {},
   "outputs": [
    {
     "name": "stdout",
     "output_type": "stream",
     "text": [
      "\"Date\", \"On-Call\"\n"
     ]
    }
   ],
   "source": [
    "try:\n",
    "    import xlrd\n",
    "except ModuleNotFoundError:\n",
    "    !pip install --user xlrd\n",
    "\n",
    "import xlrd\n",
    "\n",
    "with xlrd.open_workbook('simple_rota.xls') as xls:\n",
    "    sheet = xls.sheet_by_index(0)\n",
    "    print('\"%s\", \"%s\"' % (sheet.cell_value(0, 0), sheet.cell_value(0, 1)))"
   ]
  },
  {
   "cell_type": "markdown",
   "metadata": {},
   "source": [
    "There are a few gotchas though with this, Excel stores dates and integers as floats. "
   ]
  },
  {
   "cell_type": "code",
   "execution_count": 6,
   "metadata": {},
   "outputs": [
    {
     "name": "stdout",
     "output_type": "stream",
     "text": [
      "Cell value of (1, 0) is \"43101.0\"\n",
      "Which is actually: \"2018/01/01 00:00:00\"\n"
     ]
    }
   ],
   "source": [
    "import xlrd\n",
    "\n",
    "with xlrd.open_workbook('simple_rota.xls') as xls:\n",
    "    sheet = xls.sheet_by_index(0)\n",
    "    print('Cell value of (1, 0) is \"%s\"' % (sheet.cell_value(1, 0)))\n",
    "    date_tuple = xlrd.xldate_as_tuple(sheet.cell_value(1, 0), xls.datemode)\n",
    "    print('Which is actually: \"%d/%02d/%02d %02d:%02d:%02d\"' % date_tuple)"
   ]
  },
  {
   "cell_type": "markdown",
   "metadata": {},
   "source": [
    "It would be ideal if there was a `DictReader` equivalent that did a sensible conversion for us... I've written a helper file for this: \n",
    "[xlrd_helper.py](xlrd_helper.py)"
   ]
  },
  {
   "cell_type": "code",
   "execution_count": 7,
   "metadata": {},
   "outputs": [
    {
     "name": "stdout",
     "output_type": "stream",
     "text": [
      "OrderedDict([('Date', '2018/01/01'), ('On-Call', 'James')])\n"
     ]
    }
   ],
   "source": [
    "import xlrd_helper\n",
    "\n",
    "with open('simple_rota.xls', 'rb') as f:\n",
    "    rows = xlrd_helper.DictReader(f)\n",
    "    for row in rows:\n",
    "        print(row)\n",
    "        break"
   ]
  },
  {
   "cell_type": "markdown",
   "metadata": {},
   "source": [
    "Note how the date is converted to `YYYY/MM/DD` format. Putting dates into year first format has a number of advantages, and I'd recommend this using year first formats rather that day first formats if you have any choice. (I'd recommend, however, you use `-` as separator or drop it altogether.)\n",
    "\n",
    "* 4-digit year first formats are umambiguous - Whereas 01-02-18 is interpretted as 1st of February 2018 in most of the world, it's 2nd January 2018 in the US, but could equally be 1918, or even 18th February 2001. \n",
    "* Further, these formats can be lexicographically sorted - so if you have them in a filename - then files will get sorted by date!\n",
    "\n",
    "## Date format\n",
    "\n",
    "It's highly likely that your rota co-ordinator is not using a program to generate your rota, and that they're simply adjusting it by hand.\n",
    "\n",
    "That means that they're likely to put dates in the file in various formats.\n",
    "\n",
    "One partial benefit of using Excel is that this becomes less of an issue as data in excel is typed. (Except of course when it isn't - you can input dates in to row and them not be automatically typed and this is why I've still converted the dates to a string.)\n",
    "\n",
    "We've already put a few fallbacks in - and we could put a few others in - but there is another option: the `dateutil` module."
   ]
  },
  {
   "cell_type": "code",
   "execution_count": 9,
   "metadata": {},
   "outputs": [
    {
     "name": "stdout",
     "output_type": "stream",
     "text": [
      "2018-02-01 00:00:00\n",
      "2018-02-01 00:00:00\n",
      "2018-02-01 00:00:00\n",
      "2018-02-01 00:00:00\n",
      "2018-02-01 00:00:00\n"
     ]
    }
   ],
   "source": [
    "try:\n",
    "    import dateutil\n",
    "except ModuleNotFoundError:\n",
    "    !pip install dateutil\n",
    "\n",
    "from dateutil.parser import parse\n",
    "\n",
    "print(parse('February 1 2018'))\n",
    "print(parse('1 feb 2018'))\n",
    "print(parse('1/2/2018', dayfirst=True))\n",
    "print(parse('01-02-18', dayfirst=True))\n",
    "print(parse('2018.02.01'))"
   ]
  },
  {
   "cell_type": "markdown",
   "metadata": {},
   "source": [
    "You see this fixes a number of problems, but note the use of `dayfirst`. As clever as this module is, it still cannot cope with the ambiguities of the 2 digit formats.\n",
    "\n",
    "## Name errors or other overloading of the names\n",
    "\n",
    "As before your rota co-ordinator is likely going to be adjusting the rota by hand, and they're not going to be expected it to be read by a computer. This means we can expect:\n",
    "\n",
    "* Spelling Mistakes like `Wiliam`\n",
    "* Additional information like `James (instead of William)`\n",
    "* Special cases like `James (AM) William (PM)`\n",
    "\n",
    "But as things stand we'll just create new calendars for these and there will be a gap on the right person's calendar.\n",
    "\n",
    "### How can we cope with this?\n",
    "\n",
    "We can't predict what the rota co-ordinator is going to do, but what we should do is know when they've done something unusual.\n",
    "\n",
    "### Detecting unusual behaviour\n",
    "\n",
    "In the simple rota case we don't get told who is on the rota - the only way to work out who is on the rota is to look at it and parse it. That makes catching unusual behaviour a bit difficult, but we do have one way to catch it: Look at the last time we parsed the rota and complain if there are new \"people\" on the rota.\n",
    "\n",
    "```python\n",
    "last_names = {}\n",
    "# Read the last names \n",
    "if exists('last_names_simple.csv'):\n",
    "    with open('last_names_simple.csv') as f:\n",
    "        r = DictReader(f)\n",
    "        for row in r:\n",
    "            last_names[row['name']] = int(row['number'])\n",
    "\n",
    "with open('last_names_simple.csv', 'wb') as f:\n",
    "    w = DictWriter(f, ['name', 'number'])\n",
    "    w.writeheader()\n",
    "    for name in name_to_list_of_rows_dict:\n",
    "        number = len(name_to_list_of_rows_dict[name])\n",
    "        if not name in last_names:\n",
    "            # We have a new name\n",
    "            print('New name in rota: %s with %d rows', (name, number))\n",
    "        w.writerow( { 'name': name, 'number': number } )\n",
    "```\n",
    "\n",
    "Another option might be to detect the participants with very few on-calls and see if we can match them with others on the rota.\n",
    "\n",
    "Once we detect the abnormality we can adjust our code to cope with it or try to match the abnormal name with name on the rota. (Of course that hides a multitude of complexity.)"
   ]
  }
 ],
 "metadata": {
  "kernelspec": {
   "display_name": "Python 3",
   "language": "python",
   "name": "python3"
  },
  "language_info": {
   "codemirror_mode": {
    "name": "ipython",
    "version": 3
   },
   "file_extension": ".py",
   "mimetype": "text/x-python",
   "name": "python",
   "nbconvert_exporter": "python",
   "pygments_lexer": "ipython3",
   "version": "3.6.3"
  }
 },
 "nbformat": 4,
 "nbformat_minor": 2
}
