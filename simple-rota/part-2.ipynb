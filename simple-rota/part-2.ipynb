{
 "cells": [
  {
   "cell_type": "markdown",
   "metadata": {},
   "source": [
    "# Simple Rota Reader 2 - Individual rotas\n",
    "\n",
    "OK, so now we have a way of producing the rotas for all people on the rota, why don't we try create rotas for the individual people on the rota?\n",
    "\n",
    "Let's break the problem down in to steps:\n",
    "\n",
    "1. Read the rows in and split them into individual doctors\n",
    "2. For each doctor, create a calendar from their rows\n",
    "3. Save each icalendar file for each doctor\n",
    "\n",
    "Let's leave step 1 for the moment, but look at step 2.\n",
    "\n",
    "## 2. Create a calendar from the doctor's rows\n",
    "We just need to refactor create calendar code in to a function that takes some rows and returns a Calendar. (Whilst we're at it though we'll another parameter with a default for the title.)"
   ]
  },
  {
   "cell_type": "code",
   "execution_count": 2,
   "metadata": {},
   "outputs": [],
   "source": [
    "from icalendar import Calendar, Event\n",
    "\n",
    "def create_calendar_for(rows, title='Simple Rota'):\n",
    "    \"\"\"Given a set of rows create a calendar for these rows\"\"\"\n",
    "    cal = Calendar()\n",
    "\n",
    "    # These two lines are required but you can change the prodid slightly\n",
    "    cal.add('prodid', '-//hacksw/handcal/NONSGML v1.0//EN')\n",
    "    cal.add('version', '2.0')\n",
    "\n",
    "    # Set the title of the calendar, by default this is 'Simple Rota'\n",
    "    cal.add('x-wr-calname', title)\n",
    "\n",
    "    # Now create the events for each row\n",
    "    for row in reader:\n",
    "        event = create_event_for(row)\n",
    "        cal.add_component(event)\n",
    "\n",
    "    return cal"
   ]
  },
  {
   "cell_type": "markdown",
   "metadata": {},
   "source": [
    "Let's step back to step 1.\n",
    "\n",
    "* __Question:__ _Why don't I save the file in this function?_\n",
    "* _the KISS (Keep It Simple, Stupid!) principle says do one thing at a time. This structure allows us to test the calendar or adjust the calendar later._\n",
    "\n",
    "## 1. Read the rows and split them into individual doctors\n",
    "OK so how can we go about this?\n",
    "\n",
    "As we read the rows from the CSV file we want to store them in a data-structure that takes a name and returns a list of rows.\n",
    "\n",
    "That's a simply a `dict` with `str` keys and a `list` values.\n",
    "\n",
    "So let's try that:"
   ]
  },
  {
   "cell_type": "code",
   "execution_count": 3,
   "metadata": {},
   "outputs": [
    {
     "ename": "KeyError",
     "evalue": "'James'",
     "output_type": "error",
     "traceback": [
      "\u001b[0;31m---------------------------------------------------------------------------\u001b[0m",
      "\u001b[0;31mKeyError\u001b[0m                                  Traceback (most recent call last)",
      "\u001b[0;32m<ipython-input-3-a155b05d5412>\u001b[0m in \u001b[0;36m<module>\u001b[0;34m()\u001b[0m\n\u001b[1;32m      7\u001b[0m     \u001b[0;32mfor\u001b[0m \u001b[0mrow\u001b[0m \u001b[0;32min\u001b[0m \u001b[0mr\u001b[0m\u001b[0;34m:\u001b[0m\u001b[0;34m\u001b[0m\u001b[0m\n\u001b[1;32m      8\u001b[0m         \u001b[0mname\u001b[0m \u001b[0;34m=\u001b[0m \u001b[0mrow\u001b[0m\u001b[0;34m[\u001b[0m\u001b[0;34m'On-Call'\u001b[0m\u001b[0;34m]\u001b[0m\u001b[0;34m\u001b[0m\u001b[0m\n\u001b[0;32m----> 9\u001b[0;31m         \u001b[0mname_to_list_of_rows_dict\u001b[0m\u001b[0;34m[\u001b[0m \u001b[0mname\u001b[0m \u001b[0;34m]\u001b[0m\u001b[0;34m.\u001b[0m\u001b[0mappend\u001b[0m\u001b[0;34m(\u001b[0m\u001b[0mrow\u001b[0m\u001b[0;34m)\u001b[0m\u001b[0;34m\u001b[0m\u001b[0m\n\u001b[0m\u001b[1;32m     10\u001b[0m         \u001b[0mname_to_list_of_rows_dict\u001b[0m\u001b[0;34m[\u001b[0m \u001b[0;34m'All'\u001b[0m \u001b[0;34m]\u001b[0m\u001b[0;34m.\u001b[0m\u001b[0mappend\u001b[0m\u001b[0;34m(\u001b[0m\u001b[0mrow\u001b[0m\u001b[0;34m)\u001b[0m\u001b[0;34m\u001b[0m\u001b[0m\n",
      "\u001b[0;31mKeyError\u001b[0m: 'James'"
     ]
    }
   ],
   "source": [
    "from csv import DictReader\n",
    "\n",
    "name_to_list_of_rows_dict = {}\n",
    "\n",
    "with open('simple_rota.csv') as f:\n",
    "    r = DictReader(f)\n",
    "    for row in r:\n",
    "        name = row['On-Call']\n",
    "        name_to_list_of_rows_dict[ name ].append(row)\n",
    "        name_to_list_of_rows_dict[ 'All' ].append(row)"
   ]
  },
  {
   "cell_type": "markdown",
   "metadata": {},
   "source": [
    "* **Oh dear! What does that mean?**\n",
    "\n",
    "The error is in line 9 and it says that the `name_to_list_of_rows_dict` hasn't got a value for the key `'James'`. That's not really any clearer is it?\n",
    "\n",
    "* **OK, let's step through this.**\n",
    "\n",
    "The first time we reach line 9:\n",
    "\n",
    "```\n",
    "row = { 'Date': '01/01/2018', 'On-Call': 'James' }\n",
    "name = 'James'\n",
    "```\n",
    "\n",
    "What is `name_to_list_of_rows_dict`? It's `{}`.\n",
    "\n",
    "Is `'James' in {}`? No - it can't be and hence it's a `KeyError` to attempt to read its value.\n",
    "\n",
    "* **How do we fix this?**\n",
    "\n",
    "The first time we meet a new name we need to create an empty `list` so that we can `.append(...)` a row to it."
   ]
  },
  {
   "cell_type": "code",
   "execution_count": 5,
   "metadata": {},
   "outputs": [
    {
     "name": "stdout",
     "output_type": "stream",
     "text": [
      "dict_keys(['All', 'James', 'Rebecca', 'William'])\n"
     ]
    }
   ],
   "source": [
    "from csv import DictReader\n",
    "\n",
    "name_to_list_of_rows_dict = {}\n",
    "name_to_list_of_rows_dict['All'] = []\n",
    "\n",
    "with open('simple_rota.csv') as f:\n",
    "    r = DictReader(f)\n",
    "    for row in r:\n",
    "        name = row['On-Call']\n",
    "        if name not in name_to_list_of_rows_dict:\n",
    "            name_to_list_of_rows_dict[name] = []\n",
    "        name_to_list_of_rows_dict[ name ].append(row)\n",
    "        name_to_list_of_rows_dict[ 'All' ].append(row)\n",
    "\n",
    "print(name_to_list_of_rows_dict.keys())"
   ]
  },
  {
   "cell_type": "markdown",
   "metadata": {},
   "source": [
    "Now that's a little ugly, can we do better?\n",
    "\n",
    "What are we actually after is: [a dictionary where the default value is a list](https://www.google.co.uk/search?q=a%20dictionary%20where%20the%20default%20value%20is%20a%20list).\n",
    "\n",
    "The first link on Google for that is <https://stackoverflow.com/questions/17755996/python-list-as-default-value-for-dictionary>\n",
    "\n",
    "What it suggests is to use `collections.defaultdict`. Let's try that."
   ]
  },
  {
   "cell_type": "code",
   "execution_count": 6,
   "metadata": {},
   "outputs": [
    {
     "name": "stdout",
     "output_type": "stream",
     "text": [
      "dict_keys(['James', 'All', 'Rebecca', 'William'])\n"
     ]
    }
   ],
   "source": [
    "from csv import DictReader\n",
    "from collections import defaultdict\n",
    "\n",
    "# Note that the definition uses list not list()\n",
    "name_to_list_of_rows_dict = defaultdict(list)\n",
    "\n",
    "with open('simple_rota.csv') as f:\n",
    "    r = DictReader(f)\n",
    "    for row in r:\n",
    "        name = row['On-Call']\n",
    "        name_to_list_of_rows_dict[ name ].append(row)\n",
    "        name_to_list_of_rows_dict[ 'All' ].append(row)\n",
    "\n",
    "print(name_to_list_of_rows_dict.keys())"
   ]
  },
  {
   "cell_type": "markdown",
   "metadata": {},
   "source": [
    "## 3. Save a calendar for each doctor\n",
    "\n",
    "So now, we have a way of getting each doctor's rows, and then creating a calendar for those rows. We need a way of saving the calendar.\n",
    "\n",
    "Now in our last version of this we just saved the file as `simple-rota.ics`. We can't do that here, but we could save it as for example: `simple_rota_James.ics` in a similar manner as above. I'm going to use a [python format string](https://www.google.co.uk/search?q=python%20format%20string) for this, but you could just concatenate using `+`\n",
    "\n",
    "```python\n",
    "for name in name_to_list_of_rows_dict:\n",
    "    rows = name_to_list_of_rows_dict[name]\n",
    "    # To understand the below line Google: python format string\n",
    "    cal = create_calendar_for(row, 'Simple Rota for %s' % name)\n",
    "    with open('simple_rota_%s.ics' % name, 'wb') as f:\n",
    "        f.write(cal.to_ical())\n",
    "```\n",
    "\n",
    "So now we can complete the updated [simple_rota2.py](simple_rota2.py)"
   ]
  }
 ],
 "metadata": {
  "kernelspec": {
   "display_name": "Python 3",
   "language": "python",
   "name": "python3"
  },
  "language_info": {
   "codemirror_mode": {
    "name": "ipython",
    "version": 3
   },
   "file_extension": ".py",
   "mimetype": "text/x-python",
   "name": "python",
   "nbconvert_exporter": "python",
   "pygments_lexer": "ipython3",
   "version": "3.6.3"
  }
 },
 "nbformat": 4,
 "nbformat_minor": 2
}
