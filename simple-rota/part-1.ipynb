{
 "cells": [
  {
   "cell_type": "markdown",
   "metadata": {},
   "source": [
    "# A simple rota\n",
    "\n",
    "OK, so we now know what we want to convert our rota into and have a basic idea of how to go about making an icalendar. So let's look at a simple csv rota.\n",
    "\n",
    "```csv\n",
    "\"Date\",\"On-Call\"\n",
    "\"01/01/2018\",\"James\"\n",
    "\"02/01/2018\",\"Rebecca\"\n",
    "\"03/01/2018\",\"William\"\n",
    "\"04/01/2018\",\"James\"\n",
    "\"05/01/2018\",\"Rebecca\"\n",
    "\"06/01/2018\",\"William\"\n",
    "...\n",
    "```\n",
    "\n",
    "I don't believe anyone has ever been given a rota as simple as this. But let's look at it.\n",
    "\n",
    "## Is it really that simple?\n",
    "\n",
    "Although this looks like a really simple rota, there's a quite a bit of missing information and context here:\n",
    "\n",
    "1. What are the hours that the on-call doctor works?\n",
    "2. Are we sure that we can trust the format of the date to never change?\n",
    "3. Is it always the case that the On-Call column is always just a single name - the forename of the doctor?\n",
    "\n",
    "Right, so let's assume that the on-call hours are same everyday, say 8am to 8pm, that the date format is always `DD/MM/YYYY` and that yes it is only a forename of the doctor.\n",
    "\n",
    "## How do you solve a problem like the simple rota?\n",
    "\n",
    "What are our inputs? Easy, it's `simple_rota.csv`. We could pass in a name too, or maybe output filename but let's start simple.\n",
    "\n",
    "What's our output? We want an iCalendar file. But an iCalendar file of what? Let's start by converting the `simple_rota.csv` to a single calendar for the whole rota. (We probably want to output separate files for each participant in future.)\n",
    "\n",
    "Let's break it down\n",
    "\n",
    "1. Create an icalendar\n",
    "2. Read the csv in\n",
    "3. For each row in the csv: We need to create an event for each day and add the event to icalendar\n",
    "4. Finally save the icalendar file at the end.\n",
    "\n",
    "One of these steps hides a lot of work...\n",
    "\n",
    "### 1. Create an icalendar\n",
    "We can use the similar code to that in our [introduction to the icalendar format](../icalendar) to create the calendar.\n",
    "\n",
    "### 2. Read the CSV in\n",
    "We can just use `DictReader` for this.\n",
    "\n",
    "### 3. Create events for each day\n",
    "Ah this is the interesting question!\n",
    "\n",
    "Let's recall the event code from the [introduction to icalendar](../icalendar):"
   ]
  },
  {
   "cell_type": "code",
   "execution_count": 5,
   "metadata": {},
   "outputs": [],
   "source": [
    "from icalendar import Event\n",
    "from datetime import datetime, timedelta\n",
    "import uuid\n",
    "import pytz\n",
    "\n",
    "TZ = pytz.timezone('Europe/London')\n",
    "\n",
    "# Create a lecture event\n",
    "event = Event()\n",
    "event.add('summary', 'Give a lecture on iCalendar')\n",
    "event.add('description', 'Teach people how to create iCalendar from rotas')\n",
    "event.add('dtstart', datetime(2018, 3, 28, 9, 45, 0, tzinfo=TZ))\n",
    "event.add('duration', timedelta(minutes=60))\n",
    "event.add('dtstamp', datetime.now())\n",
    "event.add('location', 'Here')\n",
    "event.add('uid', uuid.uuid4())"
   ]
  },
  {
   "cell_type": "markdown",
   "metadata": {},
   "source": [
    "We need 4 things:\n",
    "\n",
    "1. Summary and Description.\n",
    "2. A start date and time for the event\n",
    "3. A duration for the event.\n",
    "4. A location for the event.\n",
    "\n",
    "Now the summary and description for these events should probably be the same thing: The name of doctor on-call perhaps prefixed by `\"On-Call: \"`\n",
    "\n",
    "The start date will be the date in the first column - but that is just a string and we want a `datetime` or a `date` and `time` that can be combined using `datetime.combine(date, time)` to a `datetime`.\n",
    "\n",
    "We could split the date string by the `/` character and turn each component into a number:"
   ]
  },
  {
   "cell_type": "code",
   "execution_count": 6,
   "metadata": {},
   "outputs": [
    {
     "name": "stdout",
     "output_type": "stream",
     "text": [
      "2018-01-01\n"
     ]
    }
   ],
   "source": [
    "from datetime import datetime\n",
    "\n",
    "def convert_to_date(date_str):\n",
    "    parts = date_str.split('/')\n",
    "    day = int(parts[0])\n",
    "    month = int(parts[1])\n",
    "    year = int(parts[2])\n",
    "    return datetime(year, month, day).date()\n",
    "\n",
    "date_str = '01/01/2018'\n",
    "print(convert_to_date(date_str).isoformat())"
   ]
  },
  {
   "cell_type": "markdown",
   "metadata": {},
   "source": [
    "but there's a better way to do this and one that allows us to cope with malformed dates - `datetime.strptime(...)`.\n",
    "\n",
    "`datetime.strptime` is a function which takes a date in string form and format string like `%d/%m/%Y` and creates a `datetime` that matches it. If there is an error it will raise a `ValueError` and you can try a different format."
   ]
  },
  {
   "cell_type": "code",
   "execution_count": 8,
   "metadata": {},
   "outputs": [
    {
     "name": "stdout",
     "output_type": "stream",
     "text": [
      "2018-01-01\n"
     ]
    }
   ],
   "source": [
    "def convert_to_date(date_str):\n",
    "    try:\n",
    "        # Let's expect the date to be of the form day / month / 4 digit year\n",
    "        return datetime.strptime(date_str, '%d/%m/%Y').date()\n",
    "    except ValueError:\n",
    "        try:\n",
    "            # OK let's try with 2 digit year?\n",
    "            return datetime.strptime(date_str, '%d/%m/%y').date()\n",
    "        except ValueError:\n",
    "            # OK has it ended up in year first format - if this doesn't work we should fail\n",
    "            return datetime.strptime(date_str, '%Y/%m/%d').date()\n",
    "\n",
    "print(convert_to_date(date_str).isoformat())"
   ]
  },
  {
   "cell_type": "markdown",
   "metadata": {},
   "source": [
    "As clever as this is - it won't cope with dates that haven't got `/` as the separator. I'll leave the solution as an exercise for the moment...\n",
    "\n",
    "So we've got a start date and the start time is by definition `time(hour=8, tzinfo=TZ)`. So we can set the dtstart value like this.\n",
    "\n",
    "`event.add('dtstart', datetime.combine(convert_to_date(row['Date']), time(hour=8, tzinfo=TZ)))`"
   ]
  },
  {
   "cell_type": "code",
   "execution_count": 9,
   "metadata": {},
   "outputs": [
    {
     "name": "stdout",
     "output_type": "stream",
     "text": [
      "BEGIN:VEVENT\r\n",
      "SUMMARY:On-Call: James\r\n",
      "DTSTART;TZID=Europe/London;VALUE=DATE-TIME:20180101T080000\r\n",
      "DURATION:PT12H\r\n",
      "DTSTAMP;VALUE=DATE-TIME:20171108T181706Z\r\n",
      "UID:126b348e-a61f-4d0b-a3df-c74210a003f8\r\n",
      "DESCRIPTION:On-Call: James\r\n",
      "LOCATION:At work\r\n",
      "END:VEVENT\r\n",
      "\n"
     ]
    }
   ],
   "source": [
    "from datetime import date, time, datetime, timedelta\n",
    "\n",
    "def create_event_for(row):\n",
    "    event = Event()\n",
    "    event.add('summary', 'On-Call: ' + row['On-Call'])\n",
    "    event.add('description', 'On-Call: ' + row['On-Call'])\n",
    "    event.add('dtstart', datetime.combine(convert_to_date(row['Date']), time(hour=8, tzinfo=TZ)))\n",
    "    event.add('duration', timedelta(hours=12))\n",
    "    event.add('dtstamp', datetime.now())\n",
    "    event.add('location', 'At work') # Set this to something useful\n",
    "    event.add('uid', uuid.uuid4())\n",
    "    return event\n",
    "\n",
    "print(str(create_event_for({'Date': '01/01/2018', 'On-Call': 'James'}).to_ical(), 'utf-8'))"
   ]
  },
  {
   "cell_type": "markdown",
   "metadata": {},
   "source": [
    "### 4. Write an iCalendar file at the end\n",
    "Save the calendar text with:\n",
    "```python\n",
    "with open(output_filename, 'wb') as f:\n",
    "    f.write(cal.to_ical())\n",
    "```\n",
    "\n",
    "So now we've got all the components necessary to build a simple rota reader and I've put them all together in [simple_rota1.py](simple_rota1.py)"
   ]
  }
 ],
 "metadata": {
  "kernelspec": {
   "display_name": "Python 3",
   "language": "python",
   "name": "python3"
  },
  "language_info": {
   "codemirror_mode": {
    "name": "ipython",
    "version": 3
   },
   "file_extension": ".py",
   "mimetype": "text/x-python",
   "name": "python",
   "nbconvert_exporter": "python",
   "pygments_lexer": "ipython3",
   "version": "3.6.3"
  }
 },
 "nbformat": 4,
 "nbformat_minor": 2
}
